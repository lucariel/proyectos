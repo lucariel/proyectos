{
 "cells": [
  {
   "cell_type": "code",
   "execution_count": 10,
   "metadata": {},
   "outputs": [],
   "source": [
    "import requests  \n",
    "from selenium import webdriver\n",
    "from bs4 import BeautifulSoup\n",
    "import pandas as pd  \n",
    "import numpy as np"
   ]
  },
  {
   "cell_type": "code",
   "execution_count": 147,
   "metadata": {},
   "outputs": [],
   "source": [
    "driver = webdriver.Chrome()\n",
    "driver.get(\"https://recorriendo.elecciones.gob.ar/presidente2003.html#/\")\n",
    "#driver.get(\"https://recorriendo.elecciones.gob.ar/presidente1983.html#/\")\n",
    "r = driver.execute_script(\"return document.documentElement.outerHTML\")\n",
    "driver.quit()\n",
    "soup = BeautifulSoup(r) \n"
   ]
  },
  {
   "cell_type": "code",
   "execution_count": 148,
   "metadata": {},
   "outputs": [],
   "source": [
    "provincias = [\"CAPITAL FEDERAL\",\"BUENOS AIRES\",\"CATAMARCA\",\"CHACO\",\"CHUBUT\",\"CORDOBA\",\"CORRIENTES\",\n",
    "             \"ENTRE RIOS\", \"FORMOSA\", \"JUJUY\", \"LA PAMPA\",\"LA RIOJA\",\"MENDOZA\",\"MISIONES\",\"NEUQUEN\",\"RIO NEGRO\",\n",
    "             \"SALTA\",\"SAN JUAN\",\"SAN LUIS\",\"SANTA CRUZ\",\"SANTA FE\", \"SANTIAGO DEL ESTERO\",\"TUCUMAN\",\"TIERRA DE FUEGO\"]"
   ]
  },
  {
   "cell_type": "code",
   "execution_count": 149,
   "metadata": {},
   "outputs": [],
   "source": [
    "h = []\n",
    "f = []\n",
    "for pcia in provincias:\n",
    "    f.append(pcia)\n",
    "    foundtext = soup.find('h2',text=pcia) # Find the first <p> tag with the search text\n",
    "    if foundtext is None:\n",
    "        continue\n",
    "    table = foundtext.findNext('table') # Find the first <table> tag that follows it\n",
    "    rows = table.findAll('tr')\n",
    "    for tr in rows:\n",
    "        cols = tr.findAll('td')\n",
    "        for td in cols:\n",
    "            try:\n",
    "                text = ''.join(td.find(text=True))\n",
    "            except Exception:\n",
    "                text = \",\"\n",
    "            f.append(text)\n",
    "    h.append(f)\n",
    "    f=[]\n"
   ]
  },
  {
   "cell_type": "code",
   "execution_count": 150,
   "metadata": {},
   "outputs": [
    {
     "data": {
      "text/plain": [
       "['FORMULAS - AGRUPACIONES    POLITICAS', 'VOTOS', '%']"
      ]
     },
     "execution_count": 150,
     "metadata": {},
     "output_type": "execute_result"
    }
   ],
   "source": [
    "h[0][11:14]"
   ]
  },
  {
   "cell_type": "code",
   "execution_count": 153,
   "metadata": {},
   "outputs": [
    {
     "name": "stdout",
     "output_type": "stream",
     "text": [
      "Empty DataFrame\n",
      "Columns: [Provincia, FORMULAS - AGRUPACIONES    POLITICAS, VOTOS, %]\n",
      "Index: []\n"
     ]
    }
   ],
   "source": [
    "#f[13]'FERNANDEZ DE    KIRCHNER - BOUDOU (ALIANZA FRENTE PARA LA VICTORIA)'\n",
    "#f[14]#'\\xa0\\xa0\\xa0\\xa0\\xa0\\xa0 660.275 '\n",
    "#f[15]\n",
    "\n",
    "data = {\n",
    "        'Provincia':[],\n",
    "        'FORMULAS - AGRUPACIONES    POLITICAS':[],\n",
    "        'VOTOS':[],\n",
    "        '%':[]\n",
    "    }\n",
    "a = pd.DataFrame(data)\n",
    "print(a)\n",
    "for j in range(len(h)):\n",
    "    columns=h[j][11:14]\n",
    "    partido=[]\n",
    "    voto=[]\n",
    "    porcentaje=[]\n",
    "    \n",
    "\n",
    "    for i in range(14,len(h[j])-12,3):\n",
    "        partido.append(str(h[j][i]))\n",
    "        voto.append((h[j][i+1].replace(\"\\xa0\",\"\").replace(\".\",\"\")))\n",
    "        porcentaje.append((h[j][i+2].replace(\",\",\".\")))\n",
    "    provincia = np.repeat(h[j][0], len(voto))\n",
    "    #provincia = np.repeat(\"Capital Federal\",len(voto) )\n",
    "    data['Provincia'].extend(provincia)\n",
    "    data['FORMULAS - AGRUPACIONES    POLITICAS'].extend(partido)\n",
    "    data['VOTOS'].extend(voto)\n",
    "    data['%'].extend(porcentaje)\n",
    "\n",
    "pd.DataFrame(data).to_csv(\"elecciones2003.csv\")"
   ]
  }
 ],
 "metadata": {
  "kernelspec": {
   "display_name": "Python 3",
   "language": "python",
   "name": "python3"
  },
  "language_info": {
   "codemirror_mode": {
    "name": "ipython",
    "version": 3
   },
   "file_extension": ".py",
   "mimetype": "text/x-python",
   "name": "python",
   "nbconvert_exporter": "python",
   "pygments_lexer": "ipython3",
   "version": "3.7.2"
  }
 },
 "nbformat": 4,
 "nbformat_minor": 2
}
